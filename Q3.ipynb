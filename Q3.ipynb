
'''
Q3.Write a Python program to display the current date and time.

'''

import datetime
now = datetime.datetime.now()
print ("Current date and time : ")
print (now.strftime("Date : "+"%d-%m-%Y Time : %H:%M:%S"))